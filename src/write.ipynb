{
 "cells": [
  {
   "cell_type": "code",
   "execution_count": 154,
   "metadata": {
    "collapsed": true
   },
   "outputs": [],
   "source": [
    "import pickle\n",
    "\n",
    "def head(class_name: str):\n",
    "    return '''{\"courseLen\":45,\"id\":2,\"name\":\"湖汽课时\",\"sameBreakLen\":false,\"sameLen\":true,\"theBreakLen\":10}\n",
    "[{\"endTime\":\"08:55\",\"node\":1,\"startTime\":\"08:10\",\"timeTable\":2},{\"endTime\":\"09:50\",\"node\":2,\"startTime\":\"09:05\",\"timeTable\":2},{\"endTime\":\"11:05\",\"node\":3,\"startTime\":\"10:20\",\"timeTable\":2},{\"endTime\":\"12:00\",\"node\":4,\"startTime\":\"11:15\",\"timeTable\":2},{\"endTime\":\"14:45\",\"node\":5,\"startTime\":\"14:00\",\"timeTable\":2},{\"endTime\":\"15:40\",\"node\":6,\"startTime\":\"14:55\",\"timeTable\":2},{\"endTime\":\"16:40\",\"node\":7,\"startTime\":\"15:55\",\"timeTable\":2},{\"endTime\":\"17:35\",\"node\":8,\"startTime\":\"16:50\",\"timeTable\":2},{\"endTime\":\"19:15\",\"node\":9,\"startTime\":\"18:30\",\"timeTable\":2},{\"endTime\":\"20:10\",\"node\":10,\"startTime\":\"19:25\",\"timeTable\":2},{\"endTime\":\"21:15\",\"node\":11,\"startTime\":\"20:30\",\"timeTable\":2},{\"endTime\":\"22:10\",\"node\":12,\"startTime\":\"21:25\",\"timeTable\":2},{\"endTime\":\"22:20\",\"node\":13,\"startTime\":\"21:35\",\"timeTable\":2},{\"endTime\":\"22:30\",\"node\":14,\"startTime\":\"21:45\",\"timeTable\":2},{\"endTime\":\"22:40\",\"node\":15,\"startTime\":\"21:55\",\"timeTable\":2},{\"endTime\":\"22:50\",\"node\":16,\"startTime\":\"22:05\",\"timeTable\":2},{\"endTime\":\"23:00\",\"node\":17,\"startTime\":\"22:15\",\"timeTable\":2},{\"endTime\":\"23:10\",\"node\":18,\"startTime\":\"22:25\",\"timeTable\":2},{\"endTime\":\"23:20\",\"node\":19,\"startTime\":\"22:35\",\"timeTable\":2},{\"endTime\":\"23:30\",\"node\":20,\"startTime\":\"22:45\",\"timeTable\":2},{\"endTime\":\"23:40\",\"node\":21,\"startTime\":\"22:55\",\"timeTable\":2},{\"endTime\":\"23:50\",\"node\":22,\"startTime\":\"23:05\",\"timeTable\":2},{\"endTime\":\"00:00\",\"node\":23,\"startTime\":\"23:15\",\"timeTable\":2},{\"endTime\":\"00:00\",\"node\":24,\"startTime\":\"23:25\",\"timeTable\":2},{\"endTime\":\"00:00\",\"node\":25,\"startTime\":\"23:35\",\"timeTable\":2},{\"endTime\":\"00:00\",\"node\":26,\"startTime\":\"23:45\",\"timeTable\":2},{\"endTime\":\"00:00\",\"node\":27,\"startTime\":\"23:51\",\"timeTable\":2},{\"endTime\":\"00:00\",\"node\":28,\"startTime\":\"23:56\",\"timeTable\":2},{\"endTime\":\"00:45\",\"node\":29,\"startTime\":\"00:00\",\"timeTable\":2},{\"endTime\":\"00:45\",\"node\":30,\"startTime\":\"00:00\",\"timeTable\":2}]\n",
    "{\"background\":\"\",\"courseTextColor\":-855816,\"id\":4,\"itemAlpha\":50,\"itemHeight\":72,\"itemTextSize\":12,\"maxWeek\":18,\"nodes\":10,\"showOtherWeekCourse\":false,\"showSat\":false,\"showSun\":false,\"showTime\":true,\"startDate\":\"2023-2-20\",\"strokeColor\":-2130706433,\"sundayFirst\":false,\"tableName\":\"'''+class_name+'大一下期\",\"textColor\":-16777216,\"timeTable\":1,\"type\":0,\"widgetCourseTextColor\":-1,\"widgetItemAlpha\":50,\"widgetItemHeight\":64,\"widgetItemTextSize\":12,\"widgetStrokeColor\":-2130706433,\"widgetTextColor\":-16777216}'\n",
    "\n",
    "\n",
    "class Clazz:\n",
    "    # 班级\n",
    "    def __init__(self):\n",
    "        self.class_name = None\n",
    "\n",
    "        # 每天\n",
    "        self.day_1 = []\n",
    "        self.day_2 = []\n",
    "        self.day_3 = []\n",
    "        self.day_4 = []\n",
    "        self.day_5 = []\n",
    "        self.day_6 = []\n",
    "        self.day_7 = []\n",
    "        self.days = [self.day_1,self.day_2,self.day_3,self.day_4,self.day_5,self.day_6,self.day_7]\n",
    "\n",
    "class Course:\n",
    "    # 课程\n",
    "    def __init__(self):\n",
    "        self.course_name = ''\n",
    "        self.id = 0\n",
    "        # 开始周\n",
    "        self.start_week = 0\n",
    "        # 结束周\n",
    "        self.endWeek = 0\n",
    "        # 上课地点\n",
    "        self.room = ''\n",
    "        # 开始节\n",
    "        self.start_node = 0\n",
    "        # 结束\n",
    "        self.step = 0\n",
    "        # 认可老师\n",
    "        self.teacher = 0\n",
    "        self.day = 0\n",
    "\n",
    "with open('classes', 'rb') as f:\n",
    "    classes = pickle.loads(f.read())"
   ]
  },
  {
   "cell_type": "code",
   "execution_count": 155,
   "outputs": [],
   "source": [
    "def add_day(courses: list[list[Clazz]]):\n",
    "    \"\"\"\n",
    "    :param courses: 课程数量\n",
    "    \"\"\"\n",
    "    for n, i in enumerate(courses):\n",
    "        for x in i:\n",
    "            x.day = n + 1\n",
    "\n",
    "def add_cur(days: list[list[Course]]):\n",
    "    # 不重复的课程\n",
    "    # 一个班的所有课程\n",
    "    courses = []\n",
    "    for d in days:\n",
    "        for d2 in d:\n",
    "            courses.append(d2)\n",
    "\n",
    "    ids = {}\n",
    "    # 添加id\n",
    "\n",
    "    for n, i in enumerate(list(set([i.course_name for i in courses]))):\n",
    "        ids[i] = n\n",
    "    for i in courses:\n",
    "        i.id = ids[i.course_name]\n",
    "    courses_str = []\n",
    "    for i in ids.items():\n",
    "        courses_str.append('{' + f'\"color\":\"#ff55af00\",\"courseName\":\"{i[0]}\",\"credit\":0.0,\"id\":{i[1]},\"note\":\"\",\"tableId\":4' + '}')\n",
    "    courses_info_str = []\n",
    "    for i in courses:\n",
    "        courses_info_str.append(\n",
    "            '{' + f'\"day\":{i.day},\"endTime\":\"\",\"endWeek\":{i.endWeek},\"id\":{i.id},\"level\":0,\"ownTime\":false,\"room\":\"{i.room}\",\"startNode\":{i.start_node},\"startTime\":\"\",\"startWeek\":{i.start_week},\"step\":{i.step + 1},\"tableId\":4,\"teacher\":\"{i.teacher}\",\"type\":0' + '}')\n",
    "\n",
    "    return [\n",
    "        '[' + ','.join(courses_str) + ']',\n",
    "        '[' + ','.join(set(courses_info_str)) + ']'\n",
    "    ]\n",
    "\n",
    "for i,v in classes.items():\n",
    "    add_day(v.days)\n",
    "    with open(f'./class/{i}.wakeup_schedule', 'w', encoding='utf-8') as f:\n",
    "        f.write(head(i))\n",
    "        for i in add_cur(v.days):\n",
    "            f.write('\\n' + i)\n"
   ],
   "metadata": {
    "collapsed": false
   }
  },
  {
   "cell_type": "code",
   "execution_count": 155,
   "outputs": [],
   "source": [],
   "metadata": {
    "collapsed": false
   }
  }
 ],
 "metadata": {
  "kernelspec": {
   "display_name": "Python 3",
   "language": "python",
   "name": "python3"
  },
  "language_info": {
   "codemirror_mode": {
    "name": "ipython",
    "version": 2
   },
   "file_extension": ".py",
   "mimetype": "text/x-python",
   "name": "python",
   "nbconvert_exporter": "python",
   "pygments_lexer": "ipython2",
   "version": "2.7.6"
  }
 },
 "nbformat": 4,
 "nbformat_minor": 0
}
